{
 "cells": [
  {
   "cell_type": "code",
   "execution_count": null,
   "id": "a2ff6311-4814-4341-93ec-98faef63fd1f",
   "metadata": {},
   "outputs": [],
   "source": [
    "#Check to ensure that the relevant packages are installed, and if it is not then it will be installed via pip or conda.\n",
    "#There is a choice of either conda or pip to install the packages. It is recommended that conda is used however it does take longer to solve the environment due to the downloading of particular packages.\n",
    "#If the package downloads are failing, please ensure that the conda environment that you are using has Python 3.9.12, which the code has been tested with. (Discussed in the README.md)\n",
    "\n",
    "use_conda = True\n",
    "use_pip = False\n",
    "if use_pip:\n",
    "    !pip install -r requirements.txt\n",
    "if use_conda:\n",
    "    !conda install -c conda-forge lightgbm=3.3.3 geopandas=0.14.1 matplotlib=3.8.2 overpy=0.6 shapely=2.0.2 pyarrow=14.0.1 pyogrio=0.7.2 -y\n",
    "    !conda install -c anaconda pandas=2.1.3 scipy=1.11.4 -y"
   ]
  },
  {
   "cell_type": "code",
   "execution_count": null,
   "id": "fa3702f7-ef15-4f85-bc43-214fdc9016d8",
   "metadata": {},
   "outputs": [],
   "source": []
  }
 ],
 "metadata": {
  "kernelspec": {
   "display_name": "Python 3 (ipykernel)",
   "language": "python",
   "name": "python3"
  },
  "language_info": {
   "codemirror_mode": {
    "name": "ipython",
    "version": 3
   },
   "file_extension": ".py",
   "mimetype": "text/x-python",
   "name": "python",
   "nbconvert_exporter": "python",
   "pygments_lexer": "ipython3",
   "version": "3.10.6"
  }
 },
 "nbformat": 4,
 "nbformat_minor": 5
}
