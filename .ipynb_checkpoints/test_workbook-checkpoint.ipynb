{
 "cells": [
  {
   "cell_type": "code",
   "execution_count": 2,
   "id": "a340b6d7-d432-4b97-92bd-4ac72eee1b50",
   "metadata": {},
   "outputs": [
    {
     "data": {
      "text/plain": [
       "'RUNNING air_pollution_functions.py TESTS!'"
      ]
     },
     "metadata": {},
     "output_type": "display_data"
    },
    {
     "name": "stdout",
     "output_type": "stream",
     "text": [
      "Accessing air pollution concentration at: Latitude: 51.5 Longitude: 0.12 Time: 2018-01-01 080000\n",
      "test_air_pollution_concentrations_to_UK_daily_air_quality_index_correct_input (tests_air_pollution_functions.air_pollution_functions_arguement_defence) ... ok\n",
      "test_air_pollution_concentrations_to_UK_daily_air_quality_index_incorrect_input (tests_air_pollution_functions.air_pollution_functions_arguement_defence) ... ok\n",
      "test_change_in_aqi_visulisation_correct_input (tests_air_pollution_functions.air_pollution_functions_arguement_defence) ... ok\n",
      "test_change_in_aqi_visulisation_incorrect_input (tests_air_pollution_functions.air_pollution_functions_arguement_defence) ... ok\n",
      "test_change_in_concentrations_visulisation_correct_input (tests_air_pollution_functions.air_pollution_functions_arguement_defence) ... ok\n",
      "test_change_in_concentrations_visulisation_incorrect_input (tests_air_pollution_functions.air_pollution_functions_arguement_defence) ... ok\n",
      "test_visualise_air_pollution_daily_air_quality_bands_correct_input (tests_air_pollution_functions.air_pollution_functions_arguement_defence) ... ok\n",
      "test_visualise_air_pollution_daily_air_quality_bands_incorrect_input (tests_air_pollution_functions.air_pollution_functions_arguement_defence) ... ok\n",
      "test_visualise_air_pollution_daily_air_quality_index_correct_input (tests_air_pollution_functions.air_pollution_functions_arguement_defence) ... ok\n",
      "test_visualise_air_pollution_daily_air_quality_index_incorrect_input (tests_air_pollution_functions.air_pollution_functions_arguement_defence) ... ok\n",
      "\n",
      "----------------------------------------------------------------------\n",
      "Ran 10 tests in 307.057s\n",
      "\n",
      "OK\n"
     ]
    },
    {
     "data": {
      "text/plain": [
       "'RUNNING data.py TESTS!'"
      ]
     },
     "metadata": {},
     "output_type": "display_data"
    },
    {
     "name": "stdout",
     "output_type": "stream",
     "text": [
      "test_placeholders (tests_data.data_arguement_defence) ... ok\n",
      "\n",
      "----------------------------------------------------------------------\n",
      "Ran 1 test in 0.000s\n",
      "\n",
      "OK\n"
     ]
    },
    {
     "data": {
      "text/plain": [
       "'RUNNING models.py TESTS!'"
      ]
     },
     "metadata": {},
     "output_type": "display_data"
    },
    {
     "name": "stdout",
     "output_type": "stream",
     "text": [
      "test_placeholders (tests_models.models_arguement_defence) ... ok\n",
      "\n",
      "----------------------------------------------------------------------\n",
      "Ran 1 test in 0.000s\n",
      "\n",
      "OK\n"
     ]
    }
   ],
   "source": [
    "#######\n",
    "####### Run Tests\n",
    "#######\n",
    "display(\"RUNNING air_pollution_functions.py TESTS!\")\n",
    "!python -m unittest discover -s tests -p tests_air_pollution_functions.py -v\n",
    "\n",
    "display(\"RUNNING data.py TESTS!\")\n",
    "!python -m unittest discover -s tests -p tests_data.py -v\n",
    "\n",
    "display(\"RUNNING models.py TESTS!\")\n",
    "!python -m unittest discover -s tests -p tests_models.py -v\n"
   ]
  },
  {
   "cell_type": "code",
   "execution_count": null,
   "id": "6bc3285c-d7ad-4b16-b8ba-1f84e8bcd6ae",
   "metadata": {},
   "outputs": [],
   "source": []
  }
 ],
 "metadata": {
  "kernelspec": {
   "display_name": "Python 3 (ipykernel)",
   "language": "python",
   "name": "python3"
  },
  "language_info": {
   "codemirror_mode": {
    "name": "ipython",
    "version": 3
   },
   "file_extension": ".py",
   "mimetype": "text/x-python",
   "name": "python",
   "nbconvert_exporter": "python",
   "pygments_lexer": "ipython3",
   "version": "3.10.6"
  }
 },
 "nbformat": 4,
 "nbformat_minor": 5
}
